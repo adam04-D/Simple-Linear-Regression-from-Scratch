{
 "cells": [
  {
   "cell_type": "markdown",
   "metadata": {},
   "source": [
    "***\n",
    "<pre>                                                 <i> Linear Regression <i></pre>\n",
    "***\n",
    "</div>\n",
    "    <img src=\"INSEA_logo.png\"  style=\"height: 80px;: 20px;\">\n",
    "</div>\n",
    "\n",
    "<div style=\"background-color: green\">\n",
    "<h1 align=\"center\"> Simple Linear Regression from Scratch </h1>\n",
    "</div>\n",
    "\n",
    "<pre align='left'>  18/04/2025                                                                                         <i> Author: DAOUDI Adam </i></pre>\n",
    "\n",
    "\n",
    "____________________________________________________________________________________________________________________________________________________________\n",
    "\n",
    "#### objectifs :\n",
    "- Implémenter l'algorithme de base \n",
    "- Prédictions et évaluation simple \n",
    "- Visualisation de résultats \n",
    "- Comparaison avec avec scikit-learn \n",
    "- Résolution du problème d'overfitting : méthodologie et résultats"
   ]
  },
  {
   "cell_type": "markdown",
   "metadata": {},
   "source": [
    "<div >\n",
    "<h1 align=\"left\"> I.Simple Linear Regression from Scratch </h1>\n",
    "</div>"
   ]
  },
  {
   "cell_type": "markdown",
   "metadata": {},
   "source": [
    "#### 1.Required Imports and visualizations "
   ]
  },
  {
   "cell_type": "code",
   "execution_count": 23,
   "metadata": {},
   "outputs": [],
   "source": [
    "import numpy as np\n",
    "import pandas as pd \n",
    "import matplotlib.pyplot as plt\n",
    "import seaborn as sns\n",
    "\n",
    "from sklearn.linear_model import LinearRegression\n",
    "from sklearn.model_selection import train_test_split\n",
    "from sklearn.metrics import r2_score, precision_score, f1_score\n"
   ]
  },
  {
   "cell_type": "code",
   "execution_count": 24,
   "metadata": {},
   "outputs": [],
   "source": [
    "df=pd.read_csv(\"Salary_dataset.csv\")"
   ]
  },
  {
   "cell_type": "code",
   "execution_count": 25,
   "metadata": {},
   "outputs": [
    {
     "data": {
      "text/html": [
       "<div>\n",
       "<style scoped>\n",
       "    .dataframe tbody tr th:only-of-type {\n",
       "        vertical-align: middle;\n",
       "    }\n",
       "\n",
       "    .dataframe tbody tr th {\n",
       "        vertical-align: top;\n",
       "    }\n",
       "\n",
       "    .dataframe thead th {\n",
       "        text-align: right;\n",
       "    }\n",
       "</style>\n",
       "<table border=\"1\" class=\"dataframe\">\n",
       "  <thead>\n",
       "    <tr style=\"text-align: right;\">\n",
       "      <th></th>\n",
       "      <th>Unnamed: 0</th>\n",
       "      <th>YearsExperience</th>\n",
       "      <th>Salary</th>\n",
       "    </tr>\n",
       "  </thead>\n",
       "  <tbody>\n",
       "    <tr>\n",
       "      <th>count</th>\n",
       "      <td>30.000000</td>\n",
       "      <td>30.000000</td>\n",
       "      <td>30.000000</td>\n",
       "    </tr>\n",
       "    <tr>\n",
       "      <th>mean</th>\n",
       "      <td>14.500000</td>\n",
       "      <td>5.413333</td>\n",
       "      <td>76004.000000</td>\n",
       "    </tr>\n",
       "    <tr>\n",
       "      <th>std</th>\n",
       "      <td>8.803408</td>\n",
       "      <td>2.837888</td>\n",
       "      <td>27414.429785</td>\n",
       "    </tr>\n",
       "    <tr>\n",
       "      <th>min</th>\n",
       "      <td>0.000000</td>\n",
       "      <td>1.200000</td>\n",
       "      <td>37732.000000</td>\n",
       "    </tr>\n",
       "    <tr>\n",
       "      <th>25%</th>\n",
       "      <td>7.250000</td>\n",
       "      <td>3.300000</td>\n",
       "      <td>56721.750000</td>\n",
       "    </tr>\n",
       "    <tr>\n",
       "      <th>50%</th>\n",
       "      <td>14.500000</td>\n",
       "      <td>4.800000</td>\n",
       "      <td>65238.000000</td>\n",
       "    </tr>\n",
       "    <tr>\n",
       "      <th>75%</th>\n",
       "      <td>21.750000</td>\n",
       "      <td>7.800000</td>\n",
       "      <td>100545.750000</td>\n",
       "    </tr>\n",
       "    <tr>\n",
       "      <th>max</th>\n",
       "      <td>29.000000</td>\n",
       "      <td>10.600000</td>\n",
       "      <td>122392.000000</td>\n",
       "    </tr>\n",
       "  </tbody>\n",
       "</table>\n",
       "</div>"
      ],
      "text/plain": [
       "       Unnamed: 0  YearsExperience         Salary\n",
       "count   30.000000        30.000000      30.000000\n",
       "mean    14.500000         5.413333   76004.000000\n",
       "std      8.803408         2.837888   27414.429785\n",
       "min      0.000000         1.200000   37732.000000\n",
       "25%      7.250000         3.300000   56721.750000\n",
       "50%     14.500000         4.800000   65238.000000\n",
       "75%     21.750000         7.800000  100545.750000\n",
       "max     29.000000        10.600000  122392.000000"
      ]
     },
     "execution_count": 25,
     "metadata": {},
     "output_type": "execute_result"
    }
   ],
   "source": [
    "df.describe()"
   ]
  },
  {
   "cell_type": "code",
   "execution_count": 26,
   "metadata": {},
   "outputs": [
    {
     "data": {
      "text/plain": [
       "0"
      ]
     },
     "execution_count": 26,
     "metadata": {},
     "output_type": "execute_result"
    }
   ],
   "source": [
    "df.isnull().sum().max()"
   ]
  },
  {
   "cell_type": "code",
   "execution_count": 27,
   "metadata": {},
   "outputs": [
    {
     "data": {
      "text/plain": [
       "Index(['Unnamed: 0', 'YearsExperience', 'Salary'], dtype='object')"
      ]
     },
     "execution_count": 27,
     "metadata": {},
     "output_type": "execute_result"
    }
   ],
   "source": [
    "df.columns"
   ]
  },
  {
   "cell_type": "code",
   "execution_count": 28,
   "metadata": {},
   "outputs": [
    {
     "data": {
      "text/plain": [
       "<bound method DataFrame.info of     Unnamed: 0  YearsExperience    Salary\n",
       "0            0              1.2   39344.0\n",
       "1            1              1.4   46206.0\n",
       "2            2              1.6   37732.0\n",
       "3            3              2.1   43526.0\n",
       "4            4              2.3   39892.0\n",
       "5            5              3.0   56643.0\n",
       "6            6              3.1   60151.0\n",
       "7            7              3.3   54446.0\n",
       "8            8              3.3   64446.0\n",
       "9            9              3.8   57190.0\n",
       "10          10              4.0   63219.0\n",
       "11          11              4.1   55795.0\n",
       "12          12              4.1   56958.0\n",
       "13          13              4.2   57082.0\n",
       "14          14              4.6   61112.0\n",
       "15          15              5.0   67939.0\n",
       "16          16              5.2   66030.0\n",
       "17          17              5.4   83089.0\n",
       "18          18              6.0   81364.0\n",
       "19          19              6.1   93941.0\n",
       "20          20              6.9   91739.0\n",
       "21          21              7.2   98274.0\n",
       "22          22              8.0  101303.0\n",
       "23          23              8.3  113813.0\n",
       "24          24              8.8  109432.0\n",
       "25          25              9.1  105583.0\n",
       "26          26              9.6  116970.0\n",
       "27          27              9.7  112636.0\n",
       "28          28             10.4  122392.0\n",
       "29          29             10.6  121873.0>"
      ]
     },
     "execution_count": 28,
     "metadata": {},
     "output_type": "execute_result"
    }
   ],
   "source": [
    "df.info"
   ]
  },
  {
   "cell_type": "code",
   "execution_count": 29,
   "metadata": {},
   "outputs": [
    {
     "name": "stdout",
     "output_type": "stream",
     "text": [
      "dataset loaded: 30 rows and 3 columns \n",
      "\n",
      " Duplicate rows 0\n"
     ]
    }
   ],
   "source": [
    "X=df['YearsExperience']\n",
    "y = df['Salary']\n",
    "\n",
    "print(f\"dataset loaded: {df.shape[0]} rows and {df.shape[1]} columns \")\n",
    "\n",
    "print('\\n Duplicate rows',df.duplicated().sum())\n",
    "\n"
   ]
  },
  {
   "cell_type": "markdown",
   "metadata": {},
   "source": [
    "#### 2.Code Implimenation"
   ]
  },
  {
   "cell_type": "code",
   "execution_count": 30,
   "metadata": {},
   "outputs": [],
   "source": [
    "class SimpleLinearRegression :\n",
    "    def __init__(self):\n",
    "        self.b0= 0.0\n",
    "        self.b1= 0.0 \n",
    "\n",
    "\n",
    "    def fit(self,X, y):\n",
    "\n",
    "        x=np.array(X).flatten()\n",
    "        y=np.array(y).flatten()\n",
    "        mean_X = np.mean(X)\n",
    "        mean_y= np.mean(y)\n",
    "\n",
    "        numerator = np.sum((X - mean_X)*(y - mean_y))\n",
    "        denominator = np.sum((X - mean_X)**2)\n",
    "\n",
    "        self.b1 = numerator/denominator if denominator !=0 else 0.0\n",
    "        self.b0 = mean_y - (self.b1 * mean_X)\n",
    "\n",
    "\n",
    "    def predict(self, X):\n",
    "        return self.b0 +self.b1 * np.array(X)\n",
    "    \n",
    "\n",
    "\n",
    "X = df['YearsExperience'].values\n",
    "y = df['Salary'].values\n",
    "\n",
    "\n",
    "regressor = SimpleLinearRegression()\n",
    "regressor.fit(X, y) \n",
    "y_pred_scratch = regressor.predict(X)"
   ]
  },
  {
   "cell_type": "code",
   "execution_count": 31,
   "metadata": {},
   "outputs": [
    {
     "name": "stdout",
     "output_type": "stream",
     "text": [
      "R² score is 95.6957% \n"
     ]
    }
   ],
   "source": [
    "def calculate_r2(y_true, y_pred):\n",
    "    y_true = np.array(y_true)\n",
    "    y_pred = np.array(y_pred)\n",
    "    SCR = np.sum((y_true - y_pred) ** 2)\n",
    "    SCT = np.sum((y_true - np.mean(y_true)) ** 2)\n",
    "    return 1 - (SCR / SCT) if SCT != 0 else 0.0\n",
    "\n",
    "\n",
    "r2_scrath = calculate_r2(y, y_pred_scratch)\n",
    "\n",
    "print(f'R² score is {r2_scrath*100:.4f}% ')"
   ]
  },
  {
   "cell_type": "markdown",
   "metadata": {},
   "source": [
    "<div style= \"background-color:green\">\n",
    "<hi align=\"left\" >Comment : Excellent! Explains 95.70% of salary variance.</hi>\n",
    "</div>"
   ]
  },
  {
   "cell_type": "code",
   "execution_count": 32,
   "metadata": {},
   "outputs": [
    {
     "data": {
      "image/png": "[encoded data removed]",
      "text/plain": [
       "<Figure size 640x480 with 1 Axes>"
      ]
     },
     "metadata": {},
     "output_type": "display_data"
    }
   ],
   "source": [
    "sns.regplot(x=df['YearsExperience'], y=df['Salary'], line_kws={\"color\": \"red\"})\n",
    "plt.scatter(X, y , color='blue', label=\"Actual Data \")\n",
    "plt.plot(X, y_pred_scratch, color='red', label='Regression line')\n",
    "plt.title(\"Linear Regression Fit\")\n",
    "plt.xlabel(\"Years of Experience\")\n",
    "plt.ylabel(\"Salary\")\n",
    "plt.grid(True)\n",
    "plt.legend()\n",
    "plt.show()"
   ]
  },
  {
   "cell_type": "markdown",
   "metadata": {},
   "source": [
    "#### 3.make some predictions "
   ]
  },
  {
   "cell_type": "code",
   "execution_count": 33,
   "metadata": {},
   "outputs": [],
   "source": [
    "def calculate_predicted_salary(years_experience ):\n",
    "    return regressor.b0 + regressor.b1*years_experience"
   ]
  },
  {
   "cell_type": "code",
   "execution_count": 34,
   "metadata": {},
   "outputs": [
    {
     "name": "stdout",
     "output_type": "stream",
     "text": [
      "\n",
      "predicted Salary for 9.0 years of expericne is 109897.86$\n"
     ]
    }
   ],
   "source": [
    "years_experience = 9.0\n",
    "predicted_salary_value= calculate_predicted_salary(years_experience)\n",
    "print(f'\\npredicted Salary for {years_experience} years of expericne is {predicted_salary_value:.2f}$')"
   ]
  },
  {
   "cell_type": "code",
   "execution_count": 35,
   "metadata": {},
   "outputs": [
    {
     "data": {
      "image/png": "[encoded data removed]",
      "text/plain": [
       "<Figure size 640x480 with 1 Axes>"
      ]
     },
     "metadata": {},
     "output_type": "display_data"
    }
   ],
   "source": [
    "y_pred_scratch = regressor.predict(X)\n",
    "residuals = [yi - ypi for yi, ypi in zip(y, y_pred_scratch)]\n",
    "  \n",
    "\n",
    "sns.residplot(x=y_pred_scratch, y=residuals, lowess=False, line_kws={\"color\": \"red\"})\n",
    "plt.title(\"Residuals vs. Predicted Values\")\n",
    "plt.xlabel(\"Predicted Salary (ŷ)\")\n",
    "plt.ylabel(\"Residuals\")\n",
    "plt.axhline(y=0, color='red', linestyle='--')\n",
    "plt.show()"
   ]
  },
  {
   "cell_type": "markdown",
   "metadata": {},
   "source": [
    "<div style= \"background-color:green\">\n",
    "<hi align=\"left\" >La dispersion des résidus semble aléatoire autour de zéro, sans motif systématique (ex: éventail ou regroupement). La variance des résidus reste approximativement constante sur l’ensemble des salaires prédits, ce qui valide l’hypothèse d’homoscédasticité. Le modèle est donc approprié pour des analyses statistiques rigoureuses.</hi>\n",
    "</div>"
   ]
  },
  {
   "cell_type": "markdown",
   "metadata": {},
   "source": [
    "<div style= \"background-color:red\">\n",
    "<hi align=\"left\" >Note : Une fuite de données (data leakage) pourrait survenir dans cette implémentation, conduisant potentiellement à du surapprentissage (overfitting). Nous corrigerons ce problème ultérieurement en isolant proprement les ensembles d'entraînement et de test..</hi>\n",
    "</div>"
   ]
  },
  {
   "cell_type": "markdown",
   "metadata": {},
   "source": [
    "<div >\n",
    "<h1 align=\"left\"> II.Simple Linear Regression with scikit-learn </h1>\n",
    "</div>"
   ]
  },
  {
   "cell_type": "markdown",
   "metadata": {},
   "source": [
    "#### 1.Required Imports "
   ]
  },
  {
   "cell_type": "code",
   "execution_count": 36,
   "metadata": {},
   "outputs": [],
   "source": [
    "from sklearn.metrics import mean_squared_error , r2_score\n",
    "from sklearn.model_selection import  train_test_split\n",
    "from sklearn.linear_model import  LinearRegression"
   ]
  },
  {
   "cell_type": "markdown",
   "metadata": {},
   "source": [
    "#### 2.Data Train and Test"
   ]
  },
  {
   "cell_type": "code",
   "execution_count": 37,
   "metadata": {},
   "outputs": [],
   "source": [
    "X = df['YearsExperience']\n",
    "y= df['Salary']\n",
    "\n",
    "X_train , X_test , y_train , y_test = train_test_split(X, y, test_size=0.2, random_state=42)\n",
    "X_train.shape , X_test.shape\n",
    "X_train= X_train.values\n",
    "X_test= X_test.values"
   ]
  },
  {
   "cell_type": "code",
   "execution_count": 38,
   "metadata": {},
   "outputs": [],
   "source": [
    "model = LinearRegression()\n",
    "model.fit(X_train.reshape(-1, 1), y_train)\n",
    "\n",
    "y_pred= model.predict(X_test.reshape(-1, 1))"
   ]
  },
  {
   "cell_type": "code",
   "execution_count": 39,
   "metadata": {},
   "outputs": [
    {
     "name": "stdout",
     "output_type": "stream",
     "text": [
      "R² Score: 90.2446 %\n",
      "MSE: 49830096.8559\n"
     ]
    }
   ],
   "source": [
    "\n",
    "r2 = r2_score(y_test, y_pred)\n",
    "mse = mean_squared_error(y_test, y_pred)\n",
    "\n",
    "\n",
    "print(f\"R² Score: {r2*100:.4f} %\")\n",
    "print(f\"MSE: {mse:.4f}\")"
   ]
  },
  {
   "cell_type": "markdown",
   "metadata": {},
   "source": [
    "<div style= \"background-color:green\">\n",
    "<hi align=\"left\" >Comment : Excellent! Explains 90.24% of salary variance.</hi>\n",
    "</div>"
   ]
  },
  {
   "cell_type": "markdown",
   "metadata": {},
   "source": [
    "#### 3.Make some predictions"
   ]
  },
  {
   "cell_type": "code",
   "execution_count": 40,
   "metadata": {},
   "outputs": [
    {
     "name": "stdout",
     "output_type": "stream",
     "text": [
      "predicted salary 118618.35$\n"
     ]
    }
   ],
   "source": [
    "# exemple :\n",
    "\n",
    "new_experience =[[ 10]]\n",
    "predicted_salary = model.predict(new_experience)\n",
    "print(f'predicted salary {predicted_salary.item():.2f}$')"
   ]
  },
  {
   "cell_type": "markdown",
   "metadata": {},
   "source": [
    "#### 4.From-Scratch Model vs. Scikit-Learn"
   ]
  },
  {
   "cell_type": "markdown",
   "metadata": {},
   "source": [
    "##### 4.1 coefficient de regression / R²"
   ]
  },
  {
   "cell_type": "code",
   "execution_count": 41,
   "metadata": {},
   "outputs": [
    {
     "name": "stdout",
     "output_type": "stream",
     "text": [
      "From Scratch : [24848.2039665232, 9449.962321455076]\n",
      "Scikit-Learn : 24380.20147947369 [9423.81532303]\n"
     ]
    }
   ],
   "source": [
    "print(\"From Scratch :\", [regressor.b0, regressor.b1])  \n",
    "print(\"Scikit-Learn :\", model.intercept_, model.coef_)  "
   ]
  },
  {
   "cell_type": "code",
   "execution_count": 42,
   "metadata": {},
   "outputs": [
    {
     "name": "stdout",
     "output_type": "stream",
     "text": [
      "R² score from scrath : 95.6957%\n",
      "R² score from scikit learn model : 90.2446%\n"
     ]
    }
   ],
   "source": [
    "# Comparer R²\n",
    "print(f'R² score from scrath : {r2_scrath*100:.4f}%')\n",
    "print(f'R² score from scikit learn model : {r2*100:.4f}%')"
   ]
  },
  {
   "cell_type": "markdown",
   "metadata": {},
   "source": [
    "<div style= \"background-color:green\">\n",
    "<hi align=\"left\" >La différence entre le R² du modèle from scratch (95.7%) et celui de scikit-learn (90.2%) indique une fuite de données (data leakage). Le modèle personnalisé évalue ses performances sur l'ensemble des données (entraînement + test), ce qui fausse les métriques en masquant le surapprentissage (overfitting).</hi>\n",
    "</div>"
   ]
  },
  {
   "cell_type": "markdown",
   "metadata": {},
   "source": [
    "#### 4.2 Correction :"
   ]
  },
  {
   "cell_type": "code",
   "execution_count": 43,
   "metadata": {},
   "outputs": [
    {
     "name": "stdout",
     "output_type": "stream",
     "text": [
      "R² scratch (corrigé): 91.5739%\n",
      "R² Scikit-Learn: 90.2446%\n",
      "Coef scratch: 9423.82\n",
      "Coef Sklearn: 9423.82\n"
     ]
    }
   ],
   "source": [
    "import numpy as np\n",
    "import pandas as pd\n",
    "from sklearn.model_selection import train_test_split\n",
    "\n",
    "class SimpleLinearRegression:\n",
    "    def __init__(self):\n",
    "        self.b0 = 0.0\n",
    "        self.b1 = 0.0\n",
    "\n",
    "    def fit(self, X_train, y_train):\n",
    "        X_mean = np.mean(X_train)\n",
    "        y_mean = np.mean(y_train)\n",
    "        \n",
    "        numerator = np.sum((X_train - X_mean) * (y_train - y_mean))\n",
    "        denominator = np.sum((X_train - X_mean) ** 2)\n",
    "        \n",
    "        self.b1 = numerator / denominator if denominator != 0 else 0.0\n",
    "        self.b0 = y_mean - self.b1 * X_mean\n",
    "\n",
    "    def predict(self, X):\n",
    "        return self.b0 + self.b1 * X\n",
    "\n",
    "\n",
    "X = df['YearsExperience'].values\n",
    "y = df['Salary'].values\n",
    "\n",
    "X_train, X_test, y_train, y_test = train_test_split(X, y, test_size=0.2, random_state=42)\n",
    "\n",
    "scrath_model = SimpleLinearRegression()\n",
    "scrath_model.fit(X_train, y_train)\n",
    "y_pred_scratch = scrath_model.predict(X_test)\n",
    "\n",
    "# Calcul R² corrigé avec y_train.mean()\n",
    "SCR_scratch = np.sum((y_test - y_pred_scratch) ** 2)\n",
    "SCT_scratch = np.sum((y_test - np.mean(y_train)) ** 2)\n",
    "r2_corrige= 1 - (SCR_scratch / SCT_scratch)\n",
    "\n",
    "\n",
    "\n",
    "# Affichage des résultats\n",
    "print(f\"R² scratch (corrigé): {r2_corrige*100:.4f}%\")\n",
    "print(f\"R² Scikit-Learn: {r2*100:.4f}%\")        \n",
    "print(f\"Coef scratch: {scrath_model.b1:.2f}\")    \n",
    "print(f\"Coef Sklearn: {model.coef_[0]:.2f}\") "
   ]
  }
 ],
 "metadata": {
  "kernelspec": {
   "display_name": "mon_environnement",
   "language": "python",
   "name": "python3"
  },
  "language_info": {
   "codemirror_mode": {
    "name": "ipython",
    "version": 3
   },
   "file_extension": ".py",
   "mimetype": "text/x-python",
   "name": "python",
   "nbconvert_exporter": "python",
   "pygments_lexer": "ipython3",
   "version": "3.10.13"
  }
 },
 "nbformat": 4,
 "nbformat_minor": 2
}
